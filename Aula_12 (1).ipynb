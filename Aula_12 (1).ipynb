{
 "cells": [
  {
   "cell_type": "code",
   "execution_count": 10,
   "metadata": {},
   "outputs": [
    {
     "data": {
      "text/html": [
       "<div>\n",
       "<style scoped>\n",
       "    .dataframe tbody tr th:only-of-type {\n",
       "        vertical-align: middle;\n",
       "    }\n",
       "\n",
       "    .dataframe tbody tr th {\n",
       "        vertical-align: top;\n",
       "    }\n",
       "\n",
       "    .dataframe thead th {\n",
       "        text-align: right;\n",
       "    }\n",
       "</style>\n",
       "<table border=\"1\" class=\"dataframe\">\n",
       "  <thead>\n",
       "    <tr style=\"text-align: right;\">\n",
       "      <th></th>\n",
       "      <th>DATE</th>\n",
       "      <th>CURRENCY</th>\n",
       "      <th>Open</th>\n",
       "      <th>Last</th>\n",
       "      <th>High</th>\n",
       "      <th>Low</th>\n",
       "    </tr>\n",
       "    <tr>\n",
       "      <th>ID</th>\n",
       "      <th></th>\n",
       "      <th></th>\n",
       "      <th></th>\n",
       "      <th></th>\n",
       "      <th></th>\n",
       "      <th></th>\n",
       "    </tr>\n",
       "  </thead>\n",
       "  <tbody>\n",
       "    <tr>\n",
       "      <th>IBM US Equity</th>\n",
       "      <td>2019-12-01</td>\n",
       "      <td>USD</td>\n",
       "      <td>133.60</td>\n",
       "      <td>134.45</td>\n",
       "      <td>134.52</td>\n",
       "      <td>133.0300</td>\n",
       "    </tr>\n",
       "    <tr>\n",
       "      <th>IBM US Equity</th>\n",
       "      <td>2019-12-02</td>\n",
       "      <td>USD</td>\n",
       "      <td>134.45</td>\n",
       "      <td>132.91</td>\n",
       "      <td>134.50</td>\n",
       "      <td>132.4800</td>\n",
       "    </tr>\n",
       "    <tr>\n",
       "      <th>IBM US Equity</th>\n",
       "      <td>2019-12-03</td>\n",
       "      <td>USD</td>\n",
       "      <td>132.00</td>\n",
       "      <td>132.12</td>\n",
       "      <td>132.44</td>\n",
       "      <td>130.6890</td>\n",
       "    </tr>\n",
       "    <tr>\n",
       "      <th>IBM US Equity</th>\n",
       "      <td>2019-12-04</td>\n",
       "      <td>USD</td>\n",
       "      <td>132.86</td>\n",
       "      <td>131.99</td>\n",
       "      <td>133.68</td>\n",
       "      <td>131.9600</td>\n",
       "    </tr>\n",
       "    <tr>\n",
       "      <th>IBM US Equity</th>\n",
       "      <td>2019-12-05</td>\n",
       "      <td>USD</td>\n",
       "      <td>132.99</td>\n",
       "      <td>131.91</td>\n",
       "      <td>133.24</td>\n",
       "      <td>131.6264</td>\n",
       "    </tr>\n",
       "  </tbody>\n",
       "</table>\n",
       "</div>"
      ],
      "text/plain": [
       "                    DATE CURRENCY    Open    Last    High       Low\n",
       "ID                                                                 \n",
       "IBM US Equity 2019-12-01      USD  133.60  134.45  134.52  133.0300\n",
       "IBM US Equity 2019-12-02      USD  134.45  132.91  134.50  132.4800\n",
       "IBM US Equity 2019-12-03      USD  132.00  132.12  132.44  130.6890\n",
       "IBM US Equity 2019-12-04      USD  132.86  131.99  133.68  131.9600\n",
       "IBM US Equity 2019-12-05      USD  132.99  131.91  133.24  131.6264"
      ]
     },
     "execution_count": 10,
     "metadata": {},
     "output_type": "execute_result"
    }
   ],
   "source": [
    "import bql\n",
    "import bqviz as bqv\n",
    "import pandas as pd\n",
    "\n",
    "bq = bql.Service()\n",
    "\n",
    "#\n",
    "bq = bql.Service()\n",
    "\n",
    "params_dict = {\"dates\": \"range(2019-12-01, 2019-12-31)\",\n",
    "               \"currency\": \"usd\",\n",
    "               \"fill\": \"prev\"}\n",
    "\n",
    "date_range = bq.func.range('2019-12-01', '2019-12-31')\n",
    "\n",
    "# Data items:\n",
    "px_open = bq.data.px_open(**params_dict)\n",
    "px_last = bq.data.px_last(**params_dict)\n",
    "px_high = bq.data.px_high(**params_dict)\n",
    "px_low = bq.data.px_low(**params_dict)\n",
    "interval = px_high - px_low\n",
    "\n",
    "items_dict = {'Open': px_open,\n",
    "              'Last': px_last, \n",
    "              'High': px_high,\n",
    "              'Low': px_low}\n",
    "\n",
    "# Universe:\n",
    "bql_universe = 'IBM US Equity'\n",
    "request = bql.Request(bql_universe, items_dict)\n",
    "response = bq.execute(request)\n",
    "df_main = bql.combined_df(response)\n",
    "df_main.head()"
   ]
  },
  {
   "cell_type": "code",
   "execution_count": 11,
   "metadata": {},
   "outputs": [
    {
     "data": {
      "text/html": [
       "<div>\n",
       "<style scoped>\n",
       "    .dataframe tbody tr th:only-of-type {\n",
       "        vertical-align: middle;\n",
       "    }\n",
       "\n",
       "    .dataframe tbody tr th {\n",
       "        vertical-align: top;\n",
       "    }\n",
       "\n",
       "    .dataframe thead th {\n",
       "        text-align: right;\n",
       "    }\n",
       "</style>\n",
       "<table border=\"1\" class=\"dataframe\">\n",
       "  <thead>\n",
       "    <tr style=\"text-align: right;\">\n",
       "      <th></th>\n",
       "      <th>Open</th>\n",
       "      <th>Last</th>\n",
       "      <th>High</th>\n",
       "      <th>Low</th>\n",
       "    </tr>\n",
       "    <tr>\n",
       "      <th>DATE</th>\n",
       "      <th></th>\n",
       "      <th></th>\n",
       "      <th></th>\n",
       "      <th></th>\n",
       "    </tr>\n",
       "  </thead>\n",
       "  <tbody>\n",
       "    <tr>\n",
       "      <th>2019-12-01</th>\n",
       "      <td>133.60</td>\n",
       "      <td>134.45</td>\n",
       "      <td>134.52</td>\n",
       "      <td>133.0300</td>\n",
       "    </tr>\n",
       "    <tr>\n",
       "      <th>2019-12-02</th>\n",
       "      <td>134.45</td>\n",
       "      <td>132.91</td>\n",
       "      <td>134.50</td>\n",
       "      <td>132.4800</td>\n",
       "    </tr>\n",
       "    <tr>\n",
       "      <th>2019-12-03</th>\n",
       "      <td>132.00</td>\n",
       "      <td>132.12</td>\n",
       "      <td>132.44</td>\n",
       "      <td>130.6890</td>\n",
       "    </tr>\n",
       "    <tr>\n",
       "      <th>2019-12-04</th>\n",
       "      <td>132.86</td>\n",
       "      <td>131.99</td>\n",
       "      <td>133.68</td>\n",
       "      <td>131.9600</td>\n",
       "    </tr>\n",
       "    <tr>\n",
       "      <th>2019-12-05</th>\n",
       "      <td>132.99</td>\n",
       "      <td>131.91</td>\n",
       "      <td>133.24</td>\n",
       "      <td>131.6264</td>\n",
       "    </tr>\n",
       "  </tbody>\n",
       "</table>\n",
       "</div>"
      ],
      "text/plain": [
       "              Open    Last    High       Low\n",
       "DATE                                        \n",
       "2019-12-01  133.60  134.45  134.52  133.0300\n",
       "2019-12-02  134.45  132.91  134.50  132.4800\n",
       "2019-12-03  132.00  132.12  132.44  130.6890\n",
       "2019-12-04  132.86  131.99  133.68  131.9600\n",
       "2019-12-05  132.99  131.91  133.24  131.6264"
      ]
     },
     "execution_count": 11,
     "metadata": {},
     "output_type": "execute_result"
    }
   ],
   "source": [
    "# Data wrangling:\n",
    "df_main.reset_index(inplace=True)\n",
    "df_main.dropna(axis=0, inplace=True)\n",
    "df_main.set_index('DATE', inplace=True)\n",
    "df_main.head()\n",
    "\n",
    "cols = ['Open', 'Last', 'High', 'Low']\n",
    "df_ibm = df_main[cols]\n",
    "df_ibm.head()"
   ]
  },
  {
   "cell_type": "code",
   "execution_count": 12,
   "metadata": {},
   "outputs": [
    {
     "data": {
      "application/vnd.jupyter.widget-view+json": {
       "model_id": "eaa4f5f3a27040219c22d07c6980b12b",
       "version_major": 2,
       "version_minor": 0
      },
      "text/plain": [
       "GridBox(children=(Figure(animation_duration=500, axes=[Axis(color='white', grid_color='#3c3c3c', grid_lines='d…"
      ]
     },
     "metadata": {},
     "output_type": "display_data"
    }
   ],
   "source": [
    "# Plotting using BQVIZ:\n",
    "\n",
    "lines = bqv.LinePlot(df_ibm).set_style()\n",
    "lines.show()"
   ]
  },
  {
   "cell_type": "code",
   "execution_count": 13,
   "metadata": {},
   "outputs": [
    {
     "data": {
      "application/vnd.jupyter.widget-view+json": {
       "model_id": "927e3894921042adbc134718c09b26cb",
       "version_major": 2,
       "version_minor": 0
      },
      "text/plain": [
       "GridBox(children=(Figure(animation_duration=500, axes=[Axis(color='white', grid_color='#3c3c3c', grid_lines='d…"
      ]
     },
     "metadata": {},
     "output_type": "display_data"
    }
   ],
   "source": [
    "# Plotting barplots:\n",
    "bars = bqv.BarPlot(df_ibm).set_style()\n",
    "bars.show()"
   ]
  },
  {
   "cell_type": "code",
   "execution_count": 14,
   "metadata": {},
   "outputs": [
    {
     "data": {
      "application/vnd.jupyter.widget-view+json": {
       "model_id": "5e4c965a01a64af9a52e743a14adc38b",
       "version_major": 2,
       "version_minor": 0
      },
      "text/plain": [
       "GridBox(children=(Figure(animation_duration=500, axes=[Axis(color='white', grid_color='#3c3c3c', grid_lines='d…"
      ]
     },
     "metadata": {},
     "output_type": "display_data"
    }
   ],
   "source": [
    "# Plotting KDE:\n",
    "kde = bqv.KDEPlot(df_ibm, bandwidth=0.05).set_style()\n",
    "kde.show()"
   ]
  },
  {
   "cell_type": "code",
   "execution_count": 15,
   "metadata": {},
   "outputs": [
    {
     "data": {
      "application/vnd.jupyter.widget-view+json": {
       "model_id": "79a3d1cef0754502be2bf7e0d9bdabd0",
       "version_major": 2,
       "version_minor": 0
      },
      "text/plain": [
       "HBox(children=(VBox(children=(Figure(animation_duration=500, axes=[Axis(scale=LinearScale()), Axis(label_offse…"
      ]
     },
     "metadata": {},
     "output_type": "display_data"
    }
   ],
   "source": [
    "# Plotting Histogram:\n",
    "hist = bqv.HistPlot(df_ibm, bins=20)\n",
    "hist.show()"
   ]
  },
  {
   "cell_type": "code",
   "execution_count": 16,
   "metadata": {},
   "outputs": [
    {
     "data": {
      "application/vnd.jupyter.widget-view+json": {
       "model_id": "8d80408d7708429a9fa867efb980ea77",
       "version_major": 2,
       "version_minor": 0
      },
      "text/plain": [
       "HBox(children=(VBox(children=(GridBox(children=(Figure(animation_duration=500, axes=[Axis(scale=DateScale()), …"
      ]
     },
     "metadata": {},
     "output_type": "display_data"
    }
   ],
   "source": [
    "# Creating multiple plots:\n",
    "\n",
    "grid = [bqv.LinePlot, bqv.BarPlot, bqv.KDEPlot, bqv.HistPlot]\n",
    "fig = bqv.GridPlot(df_ibm, plots=grid)\n",
    "fig.show()"
   ]
  },
  {
   "cell_type": "code",
   "execution_count": 17,
   "metadata": {},
   "outputs": [
    {
     "data": {
      "text/html": [
       "<div>\n",
       "<style scoped>\n",
       "    .dataframe tbody tr th:only-of-type {\n",
       "        vertical-align: middle;\n",
       "    }\n",
       "\n",
       "    .dataframe tbody tr th {\n",
       "        vertical-align: top;\n",
       "    }\n",
       "\n",
       "    .dataframe thead th {\n",
       "        text-align: right;\n",
       "    }\n",
       "</style>\n",
       "<table border=\"1\" class=\"dataframe\">\n",
       "  <thead>\n",
       "    <tr style=\"text-align: right;\">\n",
       "      <th></th>\n",
       "      <th>Open</th>\n",
       "      <th>Last</th>\n",
       "      <th>High</th>\n",
       "      <th>Low</th>\n",
       "    </tr>\n",
       "    <tr>\n",
       "      <th>DATE</th>\n",
       "      <th></th>\n",
       "      <th></th>\n",
       "      <th></th>\n",
       "      <th></th>\n",
       "    </tr>\n",
       "  </thead>\n",
       "  <tbody>\n",
       "    <tr>\n",
       "      <th>2019-12-01</th>\n",
       "      <td>152.10</td>\n",
       "      <td>151.38</td>\n",
       "      <td>152.3000</td>\n",
       "      <td>151.28</td>\n",
       "    </tr>\n",
       "    <tr>\n",
       "      <th>2019-12-02</th>\n",
       "      <td>151.81</td>\n",
       "      <td>149.55</td>\n",
       "      <td>151.8300</td>\n",
       "      <td>148.32</td>\n",
       "    </tr>\n",
       "    <tr>\n",
       "      <th>2019-12-03</th>\n",
       "      <td>147.49</td>\n",
       "      <td>149.31</td>\n",
       "      <td>149.4300</td>\n",
       "      <td>146.65</td>\n",
       "    </tr>\n",
       "    <tr>\n",
       "      <th>2019-12-04</th>\n",
       "      <td>150.14</td>\n",
       "      <td>149.85</td>\n",
       "      <td>150.1799</td>\n",
       "      <td>149.20</td>\n",
       "    </tr>\n",
       "    <tr>\n",
       "      <th>2019-12-05</th>\n",
       "      <td>150.05</td>\n",
       "      <td>149.93</td>\n",
       "      <td>150.3200</td>\n",
       "      <td>149.48</td>\n",
       "    </tr>\n",
       "  </tbody>\n",
       "</table>\n",
       "</div>"
      ],
      "text/plain": [
       "              Open    Last      High     Low\n",
       "DATE                                        \n",
       "2019-12-01  152.10  151.38  152.3000  151.28\n",
       "2019-12-02  151.81  149.55  151.8300  148.32\n",
       "2019-12-03  147.49  149.31  149.4300  146.65\n",
       "2019-12-04  150.14  149.85  150.1799  149.20\n",
       "2019-12-05  150.05  149.93  150.3200  149.48"
      ]
     },
     "execution_count": 17,
     "metadata": {},
     "output_type": "execute_result"
    }
   ],
   "source": [
    "# Universe:\n",
    "bql_universe = 'MSFT US Equity'\n",
    "request = bql.Request(bql_universe, items_dict)\n",
    "response = bq.execute(request)\n",
    "df_msft = bql.combined_df(response)\n",
    "df_msft.dropna(axis=0, inplace=True)\n",
    "df_msft.drop('CURRENCY', axis=1, inplace=True)\n",
    "df_msft.set_index('DATE', inplace=True)\n",
    "df_msft.head()"
   ]
  },
  {
   "cell_type": "code",
   "execution_count": 18,
   "metadata": {},
   "outputs": [
    {
     "data": {
      "application/vnd.jupyter.widget-view+json": {
       "model_id": "37a50ff1672c4d6ea70459eeb48a2afa",
       "version_major": 2,
       "version_minor": 0
      },
      "text/plain": [
       "VBox(children=(GridBox(children=(Figure(animation_duration=500, axes=[Axis(scale=DateScale()), Axis(label_offs…"
      ]
     },
     "metadata": {},
     "output_type": "display_data"
    }
   ],
   "source": [
    "# Multi Comparison Plot:\n",
    "multi = bqv.MultiComparisonPlot(df_ibm, df_msft)\n",
    "multi.show()"
   ]
  },
  {
   "cell_type": "code",
   "execution_count": null,
   "metadata": {},
   "outputs": [],
   "source": []
  }
 ],
 "metadata": {
  "kernelspec": {
   "display_name": "Python 3 (sandboxed)",
   "language": "python",
   "name": "python3"
  },
  "language_info": {
   "codemirror_mode": {
    "name": "ipython",
    "version": 3
   },
   "file_extension": ".py",
   "mimetype": "text/x-python",
   "name": "python",
   "nbconvert_exporter": "python",
   "pygments_lexer": "ipython3",
   "version": "3.7.1"
  }
 },
 "nbformat": 4,
 "nbformat_minor": 4
}
