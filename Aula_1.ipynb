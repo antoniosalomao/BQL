{
 "cells": [
  {
   "cell_type": "code",
   "execution_count": 24,
   "metadata": {},
   "outputs": [],
   "source": [
    "import bql \n",
    "import bqviz as bqv\n",
    "bq = bql.Service()\n",
    "\n",
    "entities = ['MSFT US Equity', 'GE US Equity', 'BAC US Equity']\n",
    "interval = bq.func.range('2019-01-01', '2019-12-31')\n",
    "price = bq.data.px_last(dates=interval, frq='D', fill='prev')\n",
    "\n",
    "request = bql.Request(entities, price)\n",
    "result = bq.execute(request)"
   ]
  },
  {
   "cell_type": "code",
   "execution_count": 25,
   "metadata": {},
   "outputs": [
    {
     "name": "stdout",
     "output_type": "stream",
     "text": [
      "<bql.request.response.Response object at 0x000002D59AA85D68>\n"
     ]
    }
   ],
   "source": [
    "print(result)"
   ]
  },
  {
   "cell_type": "code",
   "execution_count": 26,
   "metadata": {},
   "outputs": [],
   "source": [
    "# Converting Response object to a DataFrame:\n",
    "\n",
    "df_main = result[0].df()"
   ]
  },
  {
   "cell_type": "code",
   "execution_count": 27,
   "metadata": {},
   "outputs": [
    {
     "name": "stdout",
     "output_type": "stream",
     "text": [
      "<class 'pandas.core.frame.DataFrame'>\n",
      "Index: 1095 entries, MSFT US Equity to BAC US Equity\n",
      "Data columns (total 3 columns):\n",
      "DATE                                                                    1095 non-null datetime64[ns]\n",
      "CURRENCY                                                                1095 non-null object\n",
      "PX_LAST(frq=PER.D,fill=FILL.prev,dates=RANGE(2019-01-01,2019-12-31))    1095 non-null float64\n",
      "dtypes: datetime64[ns](1), float64(1), object(1)\n",
      "memory usage: 34.2+ KB\n",
      "\n",
      "\n"
     ]
    },
    {
     "data": {
      "text/html": [
       "<div>\n",
       "<style scoped>\n",
       "    .dataframe tbody tr th:only-of-type {\n",
       "        vertical-align: middle;\n",
       "    }\n",
       "\n",
       "    .dataframe tbody tr th {\n",
       "        vertical-align: top;\n",
       "    }\n",
       "\n",
       "    .dataframe thead th {\n",
       "        text-align: right;\n",
       "    }\n",
       "</style>\n",
       "<table border=\"1\" class=\"dataframe\">\n",
       "  <thead>\n",
       "    <tr style=\"text-align: right;\">\n",
       "      <th></th>\n",
       "      <th>DATE</th>\n",
       "      <th>CURRENCY</th>\n",
       "      <th>PX_LAST(frq=PER.D,fill=FILL.prev,dates=RANGE(2019-01-01,2019-12-31))</th>\n",
       "    </tr>\n",
       "    <tr>\n",
       "      <th>ID</th>\n",
       "      <th></th>\n",
       "      <th></th>\n",
       "      <th></th>\n",
       "    </tr>\n",
       "  </thead>\n",
       "  <tbody>\n",
       "    <tr>\n",
       "      <th>MSFT US Equity</th>\n",
       "      <td>2019-01-01</td>\n",
       "      <td>USD</td>\n",
       "      <td>101.57</td>\n",
       "    </tr>\n",
       "    <tr>\n",
       "      <th>MSFT US Equity</th>\n",
       "      <td>2019-01-02</td>\n",
       "      <td>USD</td>\n",
       "      <td>101.12</td>\n",
       "    </tr>\n",
       "    <tr>\n",
       "      <th>MSFT US Equity</th>\n",
       "      <td>2019-01-03</td>\n",
       "      <td>USD</td>\n",
       "      <td>97.40</td>\n",
       "    </tr>\n",
       "    <tr>\n",
       "      <th>MSFT US Equity</th>\n",
       "      <td>2019-01-04</td>\n",
       "      <td>USD</td>\n",
       "      <td>101.93</td>\n",
       "    </tr>\n",
       "    <tr>\n",
       "      <th>MSFT US Equity</th>\n",
       "      <td>2019-01-05</td>\n",
       "      <td>USD</td>\n",
       "      <td>101.93</td>\n",
       "    </tr>\n",
       "  </tbody>\n",
       "</table>\n",
       "</div>"
      ],
      "text/plain": [
       "                     DATE CURRENCY  \\\n",
       "ID                                   \n",
       "MSFT US Equity 2019-01-01      USD   \n",
       "MSFT US Equity 2019-01-02      USD   \n",
       "MSFT US Equity 2019-01-03      USD   \n",
       "MSFT US Equity 2019-01-04      USD   \n",
       "MSFT US Equity 2019-01-05      USD   \n",
       "\n",
       "                PX_LAST(frq=PER.D,fill=FILL.prev,dates=RANGE(2019-01-01,2019-12-31))  \n",
       "ID                                                                                    \n",
       "MSFT US Equity                                             101.57                     \n",
       "MSFT US Equity                                             101.12                     \n",
       "MSFT US Equity                                              97.40                     \n",
       "MSFT US Equity                                             101.93                     \n",
       "MSFT US Equity                                             101.93                     "
      ]
     },
     "execution_count": 27,
     "metadata": {},
     "output_type": "execute_result"
    }
   ],
   "source": [
    "#Inspecting DataFrame:\n",
    "\n",
    "df_main.info()\n",
    "\n",
    "print('\\n')\n",
    "\n",
    "df_main.head()"
   ]
  },
  {
   "cell_type": "code",
   "execution_count": 28,
   "metadata": {},
   "outputs": [
    {
     "data": {
      "text/html": [
       "<div>\n",
       "<style scoped>\n",
       "    .dataframe tbody tr th:only-of-type {\n",
       "        vertical-align: middle;\n",
       "    }\n",
       "\n",
       "    .dataframe tbody tr th {\n",
       "        vertical-align: top;\n",
       "    }\n",
       "\n",
       "    .dataframe thead th {\n",
       "        text-align: right;\n",
       "    }\n",
       "</style>\n",
       "<table border=\"1\" class=\"dataframe\">\n",
       "  <thead>\n",
       "    <tr style=\"text-align: right;\">\n",
       "      <th></th>\n",
       "      <th>ID</th>\n",
       "      <th>Date</th>\n",
       "      <th>Currency</th>\n",
       "      <th>Close</th>\n",
       "    </tr>\n",
       "  </thead>\n",
       "  <tbody>\n",
       "    <tr>\n",
       "      <th>0</th>\n",
       "      <td>MSFT US Equity</td>\n",
       "      <td>2019-01-01</td>\n",
       "      <td>USD</td>\n",
       "      <td>101.57</td>\n",
       "    </tr>\n",
       "    <tr>\n",
       "      <th>1</th>\n",
       "      <td>MSFT US Equity</td>\n",
       "      <td>2019-01-02</td>\n",
       "      <td>USD</td>\n",
       "      <td>101.12</td>\n",
       "    </tr>\n",
       "    <tr>\n",
       "      <th>2</th>\n",
       "      <td>MSFT US Equity</td>\n",
       "      <td>2019-01-03</td>\n",
       "      <td>USD</td>\n",
       "      <td>97.40</td>\n",
       "    </tr>\n",
       "    <tr>\n",
       "      <th>3</th>\n",
       "      <td>MSFT US Equity</td>\n",
       "      <td>2019-01-04</td>\n",
       "      <td>USD</td>\n",
       "      <td>101.93</td>\n",
       "    </tr>\n",
       "    <tr>\n",
       "      <th>4</th>\n",
       "      <td>MSFT US Equity</td>\n",
       "      <td>2019-01-05</td>\n",
       "      <td>USD</td>\n",
       "      <td>101.93</td>\n",
       "    </tr>\n",
       "  </tbody>\n",
       "</table>\n",
       "</div>"
      ],
      "text/plain": [
       "               ID       Date Currency   Close\n",
       "0  MSFT US Equity 2019-01-01      USD  101.57\n",
       "1  MSFT US Equity 2019-01-02      USD  101.12\n",
       "2  MSFT US Equity 2019-01-03      USD   97.40\n",
       "3  MSFT US Equity 2019-01-04      USD  101.93\n",
       "4  MSFT US Equity 2019-01-05      USD  101.93"
      ]
     },
     "execution_count": 28,
     "metadata": {},
     "output_type": "execute_result"
    }
   ],
   "source": [
    "# Renaming columns and resetting the index column:\n",
    "\n",
    "col_names = ['Date', 'Currency', 'Close']\n",
    "df_main.columns = col_names\n",
    "df_main.reset_index(inplace=True)\n",
    "                    \n",
    "df_main.head()"
   ]
  },
  {
   "cell_type": "code",
   "execution_count": 31,
   "metadata": {},
   "outputs": [
    {
     "data": {
      "text/html": [
       "<div>\n",
       "<style scoped>\n",
       "    .dataframe tbody tr th:only-of-type {\n",
       "        vertical-align: middle;\n",
       "    }\n",
       "\n",
       "    .dataframe tbody tr th {\n",
       "        vertical-align: top;\n",
       "    }\n",
       "\n",
       "    .dataframe thead th {\n",
       "        text-align: right;\n",
       "    }\n",
       "</style>\n",
       "<table border=\"1\" class=\"dataframe\">\n",
       "  <thead>\n",
       "    <tr style=\"text-align: right;\">\n",
       "      <th>ID</th>\n",
       "      <th>BAC US Equity</th>\n",
       "      <th>GE US Equity</th>\n",
       "      <th>MSFT US Equity</th>\n",
       "    </tr>\n",
       "    <tr>\n",
       "      <th>Date</th>\n",
       "      <th></th>\n",
       "      <th></th>\n",
       "      <th></th>\n",
       "    </tr>\n",
       "  </thead>\n",
       "  <tbody>\n",
       "    <tr>\n",
       "      <th>2019-12-27</th>\n",
       "      <td>35.35</td>\n",
       "      <td>11.18</td>\n",
       "      <td>158.96</td>\n",
       "    </tr>\n",
       "    <tr>\n",
       "      <th>2019-12-28</th>\n",
       "      <td>35.35</td>\n",
       "      <td>11.18</td>\n",
       "      <td>158.96</td>\n",
       "    </tr>\n",
       "    <tr>\n",
       "      <th>2019-12-29</th>\n",
       "      <td>35.35</td>\n",
       "      <td>11.18</td>\n",
       "      <td>158.96</td>\n",
       "    </tr>\n",
       "    <tr>\n",
       "      <th>2019-12-30</th>\n",
       "      <td>35.15</td>\n",
       "      <td>11.08</td>\n",
       "      <td>157.59</td>\n",
       "    </tr>\n",
       "    <tr>\n",
       "      <th>2019-12-31</th>\n",
       "      <td>35.22</td>\n",
       "      <td>11.16</td>\n",
       "      <td>157.70</td>\n",
       "    </tr>\n",
       "  </tbody>\n",
       "</table>\n",
       "</div>"
      ],
      "text/plain": [
       "ID          BAC US Equity  GE US Equity  MSFT US Equity\n",
       "Date                                                   \n",
       "2019-12-27          35.35         11.18          158.96\n",
       "2019-12-28          35.35         11.18          158.96\n",
       "2019-12-29          35.35         11.18          158.96\n",
       "2019-12-30          35.15         11.08          157.59\n",
       "2019-12-31          35.22         11.16          157.70"
      ]
     },
     "execution_count": 31,
     "metadata": {},
     "output_type": "execute_result"
    }
   ],
   "source": [
    "# Building final DataFrame:\n",
    "\n",
    "df_final = df_main.pivot('Date', 'ID', 'Close')\n",
    "df_final.tail()"
   ]
  },
  {
   "cell_type": "code",
   "execution_count": 32,
   "metadata": {},
   "outputs": [],
   "source": [
    "# Cleaning DataFrame (dealing with missing values):\n",
    "\n",
    "# Removing missing values (rows, axis=0):\n",
    "\n",
    "df_final.dropna(inplace=True, axis=0)"
   ]
  },
  {
   "cell_type": "code",
   "execution_count": 36,
   "metadata": {},
   "outputs": [
    {
     "data": {
      "application/vnd.jupyter.widget-view+json": {
       "model_id": "2d0388477f19466881964485d9800e9d",
       "version_major": 2,
       "version_minor": 0
      },
      "text/plain": [
       "GridBox(children=(Figure(animation_duration=500, axes=[Axis(color='white', grid_color='#3c3c3c', grid_lines='d…"
      ]
     },
     "metadata": {},
     "output_type": "display_data"
    }
   ],
   "source": [
    "# Plotting our data using bqv: \n",
    "\n",
    "line_plot = bqv.LinePlot(df_final).set_style()\n",
    "line_plot.show()"
   ]
  },
  {
   "cell_type": "code",
   "execution_count": null,
   "metadata": {},
   "outputs": [],
   "source": []
  }
 ],
 "metadata": {
  "kernelspec": {
   "display_name": "Python 3 (sandboxed)",
   "language": "python",
   "name": "python3"
  },
  "language_info": {
   "codemirror_mode": {
    "name": "ipython",
    "version": 3
   },
   "file_extension": ".py",
   "mimetype": "text/x-python",
   "name": "python",
   "nbconvert_exporter": "python",
   "pygments_lexer": "ipython3",
   "version": "3.7.1"
  }
 },
 "nbformat": 4,
 "nbformat_minor": 4
}
