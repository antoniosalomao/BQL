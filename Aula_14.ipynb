{
 "cells": [
  {
   "cell_type": "code",
   "execution_count": 54,
   "metadata": {},
   "outputs": [
    {
     "data": {
      "text/html": [
       "<div>\n",
       "<style scoped>\n",
       "    .dataframe tbody tr th:only-of-type {\n",
       "        vertical-align: middle;\n",
       "    }\n",
       "\n",
       "    .dataframe tbody tr th {\n",
       "        vertical-align: top;\n",
       "    }\n",
       "\n",
       "    .dataframe thead th {\n",
       "        text-align: right;\n",
       "    }\n",
       "</style>\n",
       "<table border=\"1\" class=\"dataframe\">\n",
       "  <thead>\n",
       "    <tr style=\"text-align: right;\">\n",
       "      <th></th>\n",
       "      <th>Open</th>\n",
       "      <th>Last</th>\n",
       "      <th>Low</th>\n",
       "      <th>High</th>\n",
       "    </tr>\n",
       "    <tr>\n",
       "      <th>DATE</th>\n",
       "      <th></th>\n",
       "      <th></th>\n",
       "      <th></th>\n",
       "      <th></th>\n",
       "    </tr>\n",
       "  </thead>\n",
       "  <tbody>\n",
       "    <tr>\n",
       "      <th>2016-01-01</th>\n",
       "      <td>135.60</td>\n",
       "      <td>135.95</td>\n",
       "      <td>134.240000</td>\n",
       "      <td>135.97</td>\n",
       "    </tr>\n",
       "    <tr>\n",
       "      <th>2016-01-02</th>\n",
       "      <td>135.60</td>\n",
       "      <td>135.95</td>\n",
       "      <td>134.240000</td>\n",
       "      <td>135.97</td>\n",
       "    </tr>\n",
       "    <tr>\n",
       "      <th>2016-01-03</th>\n",
       "      <td>135.60</td>\n",
       "      <td>135.95</td>\n",
       "      <td>134.240000</td>\n",
       "      <td>135.97</td>\n",
       "    </tr>\n",
       "    <tr>\n",
       "      <th>2016-01-04</th>\n",
       "      <td>135.60</td>\n",
       "      <td>135.95</td>\n",
       "      <td>134.240000</td>\n",
       "      <td>135.97</td>\n",
       "    </tr>\n",
       "    <tr>\n",
       "      <th>2016-01-05</th>\n",
       "      <td>136.76</td>\n",
       "      <td>135.85</td>\n",
       "      <td>134.850125</td>\n",
       "      <td>136.89</td>\n",
       "    </tr>\n",
       "  </tbody>\n",
       "</table>\n",
       "</div>"
      ],
      "text/plain": [
       "              Open    Last         Low    High\n",
       "DATE                                          \n",
       "2016-01-01  135.60  135.95  134.240000  135.97\n",
       "2016-01-02  135.60  135.95  134.240000  135.97\n",
       "2016-01-03  135.60  135.95  134.240000  135.97\n",
       "2016-01-04  135.60  135.95  134.240000  135.97\n",
       "2016-01-05  136.76  135.85  134.850125  136.89"
      ]
     },
     "execution_count": 54,
     "metadata": {},
     "output_type": "execute_result"
    }
   ],
   "source": [
    "import bql\n",
    "import bqviz as bqv\n",
    "import pandas as pd\n",
    "from ipywidgets import *\n",
    "\n",
    "bq = bql.Service()\n",
    "\n",
    "def clean_df(univ, start, end):\n",
    "    \n",
    "    # Parameters:\n",
    "    date_expression = 'range({}, {})'.format(start, end)\n",
    "    params_dict = { 'dates': date_expression,\n",
    "                    'currency': 'usd',\n",
    "                    'fill': 'next'}\n",
    "    \n",
    "    # Data Items:\n",
    "    px_open = bq.data.px_open(**params_dict)\n",
    "    px_last = bq.data.px_last(**params_dict)\n",
    "    px_low = bq.data.px_low(**params_dict)\n",
    "    px_high = bq.data.px_high(**params_dict)\n",
    "\n",
    "    items_dict = {'Open': px_open, \n",
    "                  'Last': px_last,\n",
    "                   'Low': px_low, \n",
    "                  'High': px_high}\n",
    "\n",
    "    # Universe:\n",
    "    bq_univ = univ\n",
    "\n",
    "    # Fetching data:\n",
    "    request = bql.Request(bq_univ, items_dict)\n",
    "    response = bq.execute(request)\n",
    "    df = bql.combined_df(response)\n",
    "    df.reset_index(inplace=True)\n",
    "    df.drop(['CURRENCY', 'ID'], axis=1, inplace=True)\n",
    "    df.set_index('DATE', inplace=True)\n",
    "                         \n",
    "    return (df)\n",
    "\n",
    "# Parameter dictionary:\n",
    "params_dict_1 = {'univ': 'IBM US Equity',\n",
    "               'start': '2016-01-01',\n",
    "               'end': '2017-01-01'}\n",
    "\n",
    "# Fetching data:\n",
    "df_ibm = clean_df(**params_dict_1)\n",
    "df_ibm.head()"
   ]
  },
  {
   "cell_type": "code",
   "execution_count": 55,
   "metadata": {},
   "outputs": [
    {
     "data": {
      "text/html": [
       "<div>\n",
       "<style scoped>\n",
       "    .dataframe tbody tr th:only-of-type {\n",
       "        vertical-align: middle;\n",
       "    }\n",
       "\n",
       "    .dataframe tbody tr th {\n",
       "        vertical-align: top;\n",
       "    }\n",
       "\n",
       "    .dataframe thead th {\n",
       "        text-align: right;\n",
       "    }\n",
       "</style>\n",
       "<table border=\"1\" class=\"dataframe\">\n",
       "  <thead>\n",
       "    <tr style=\"text-align: right;\">\n",
       "      <th></th>\n",
       "      <th>Open</th>\n",
       "      <th>Last</th>\n",
       "      <th>Low</th>\n",
       "      <th>High</th>\n",
       "    </tr>\n",
       "    <tr>\n",
       "      <th>DATE</th>\n",
       "      <th></th>\n",
       "      <th></th>\n",
       "      <th></th>\n",
       "      <th></th>\n",
       "    </tr>\n",
       "  </thead>\n",
       "  <tbody>\n",
       "    <tr>\n",
       "      <th>2016-01-01</th>\n",
       "      <td>109.00</td>\n",
       "      <td>109.96</td>\n",
       "      <td>105.21</td>\n",
       "      <td>110.00</td>\n",
       "    </tr>\n",
       "    <tr>\n",
       "      <th>2016-01-02</th>\n",
       "      <td>109.00</td>\n",
       "      <td>109.96</td>\n",
       "      <td>105.21</td>\n",
       "      <td>110.00</td>\n",
       "    </tr>\n",
       "    <tr>\n",
       "      <th>2016-01-03</th>\n",
       "      <td>109.00</td>\n",
       "      <td>109.96</td>\n",
       "      <td>105.21</td>\n",
       "      <td>110.00</td>\n",
       "    </tr>\n",
       "    <tr>\n",
       "      <th>2016-01-04</th>\n",
       "      <td>109.00</td>\n",
       "      <td>109.96</td>\n",
       "      <td>105.21</td>\n",
       "      <td>110.00</td>\n",
       "    </tr>\n",
       "    <tr>\n",
       "      <th>2016-01-05</th>\n",
       "      <td>110.45</td>\n",
       "      <td>107.66</td>\n",
       "      <td>105.85</td>\n",
       "      <td>110.58</td>\n",
       "    </tr>\n",
       "  </tbody>\n",
       "</table>\n",
       "</div>"
      ],
      "text/plain": [
       "              Open    Last     Low    High\n",
       "DATE                                      \n",
       "2016-01-01  109.00  109.96  105.21  110.00\n",
       "2016-01-02  109.00  109.96  105.21  110.00\n",
       "2016-01-03  109.00  109.96  105.21  110.00\n",
       "2016-01-04  109.00  109.96  105.21  110.00\n",
       "2016-01-05  110.45  107.66  105.85  110.58"
      ]
     },
     "execution_count": 55,
     "metadata": {},
     "output_type": "execute_result"
    }
   ],
   "source": [
    "# Netflix DataFrame:\n",
    "params_dict_2 = {'univ': 'NFLX US Equity',\n",
    "               'start': '2016-01-01',\n",
    "               'end': '2017-01-01'}\n",
    "\n",
    "df_nflx = clean_df(**params_dict_2)\n",
    "df_nflx.head()"
   ]
  },
  {
   "cell_type": "code",
   "execution_count": 56,
   "metadata": {},
   "outputs": [
    {
     "data": {
      "application/vnd.jupyter.widget-view+json": {
       "model_id": "caccb8bb059b4e43a1574b1aa549d6ef",
       "version_major": 2,
       "version_minor": 0
      },
      "text/plain": [
       "VBox(children=(Box(children=(Figure(axes=[Axis(label='Open', scale=LinearScale(), side='bottom'), Axis(label='…"
      ]
     },
     "metadata": {},
     "output_type": "display_data"
    }
   ],
   "source": [
    "# Interactive Scatter Plot:\n",
    "interscatter =  bqv.InteractiveScatterPlot(df_ibm, hide_controls=True)\n",
    "interscatter.show()"
   ]
  },
  {
   "cell_type": "code",
   "execution_count": 57,
   "metadata": {},
   "outputs": [
    {
     "data": {
      "application/vnd.jupyter.widget-view+json": {
       "model_id": "d4412d04e6a8445bb63031190b525fea",
       "version_major": 2,
       "version_minor": 0
      },
      "text/plain": [
       "interactive(children=(Dropdown(description='X Axis', options=('Open', 'Last', 'Low', 'High'), value='Open'), O…"
      ]
     },
     "metadata": {},
     "output_type": "display_data"
    }
   ],
   "source": [
    "# X-axis selection:\n",
    "interscatter._xsel"
   ]
  },
  {
   "cell_type": "code",
   "execution_count": 58,
   "metadata": {},
   "outputs": [
    {
     "data": {
      "application/vnd.jupyter.widget-view+json": {
       "model_id": "12eeccf8bc154c88b93a9bd2ad16b230",
       "version_major": 2,
       "version_minor": 0
      },
      "text/plain": [
       "interactive(children=(Dropdown(description='Y Axis', options=('Open', 'Last', 'Low', 'High'), value='Open'), O…"
      ]
     },
     "metadata": {},
     "output_type": "display_data"
    }
   ],
   "source": [
    "# Y-axis selection:\n",
    "interscatter._ysel"
   ]
  },
  {
   "cell_type": "code",
   "execution_count": 59,
   "metadata": {},
   "outputs": [
    {
     "data": {
      "text/html": [
       "<div>\n",
       "<style scoped>\n",
       "    .dataframe tbody tr th:only-of-type {\n",
       "        vertical-align: middle;\n",
       "    }\n",
       "\n",
       "    .dataframe tbody tr th {\n",
       "        vertical-align: top;\n",
       "    }\n",
       "\n",
       "    .dataframe thead th {\n",
       "        text-align: right;\n",
       "    }\n",
       "</style>\n",
       "<table border=\"1\" class=\"dataframe\">\n",
       "  <thead>\n",
       "    <tr style=\"text-align: right;\">\n",
       "      <th></th>\n",
       "    </tr>\n",
       "  </thead>\n",
       "  <tbody>\n",
       "  </tbody>\n",
       "</table>\n",
       "</div>"
      ],
      "text/plain": [
       "Empty DataFrame\n",
       "Columns: []\n",
       "Index: []"
      ]
     },
     "execution_count": 59,
     "metadata": {},
     "output_type": "execute_result"
    }
   ],
   "source": [
    "# Data selection (DataFrame selection):\n",
    "# Returns a DataFrame with your selected scatter plot values (drag):\n",
    "interscatter.selected_data"
   ]
  },
  {
   "cell_type": "code",
   "execution_count": 69,
   "metadata": {},
   "outputs": [
    {
     "data": {
      "application/vnd.jupyter.widget-view+json": {
       "model_id": "091a05d418e44f91a0a7407bb44b43a7",
       "version_major": 2,
       "version_minor": 0
      },
      "text/plain": [
       "VBox(children=(VBox(children=(Box(children=(Figure(animation_duration=500, axes=[Axis(scale=DateScale()), Axis…"
      ]
     },
     "metadata": {},
     "output_type": "display_data"
    }
   ],
   "source": [
    "# Joining multiple graphs:\n",
    "interlineplot_ibm = bqv.InteractiveLinePlot(df_ibm, title='IBM US Equity')\n",
    "interlineplot_nflx = bqv.InteractiveLinePlot(df_nflx, title='NFLX US Equity')\n",
    "\n",
    "df_ibm_reset = df_ibm.reset_index()\n",
    "interscatterplot_ibm = bqv.InteractiveScatterPlot(df_ibm_reset)\n",
    "\n",
    "VBox([interlineplot_ibm.show(), interlineplot_nflx.show(), interscatterplot_ibm.show()])"
   ]
  },
  {
   "cell_type": "code",
   "execution_count": 71,
   "metadata": {},
   "outputs": [
    {
     "data": {
      "application/vnd.jupyter.widget-view+json": {
       "model_id": "f0229880212741c2aba6c3b62b734b7c",
       "version_major": 2,
       "version_minor": 0
      },
      "text/plain": [
       "VBox(children=(VBox(children=(Box(children=(Figure(animation_duration=500, axes=[Axis(scale=DateScale(), side=…"
      ]
     },
     "metadata": {},
     "output_type": "display_data"
    }
   ],
   "source": [
    "# Summary Statistics + graphs:\n",
    "def stats(df_1):\n",
    "    dict = { 'Min': df_1.min(),\n",
    "             'Max': df_1.max(),\n",
    "             'Mean': df_1.mean(),\n",
    "             'Stdev': df_1.std()}\n",
    "    \n",
    "    df_2 = pd.DataFrame(dict)\n",
    "    df_2.dropna(axis=1,inplace=True)\n",
    "    \n",
    "    return df_2\n",
    "\n",
    "bars = bqv.BarPlot()\n",
    "interlineplot.links= [[bars, stats]]\n",
    "VBox([interlineplot.show(), bars.show()])"
   ]
  },
  {
   "cell_type": "code",
   "execution_count": null,
   "metadata": {},
   "outputs": [],
   "source": []
  }
 ],
 "metadata": {
  "kernelspec": {
   "display_name": "Python 3 (sandboxed)",
   "language": "python",
   "name": "python3"
  },
  "language_info": {
   "codemirror_mode": {
    "name": "ipython",
    "version": 3
   },
   "file_extension": ".py",
   "mimetype": "text/x-python",
   "name": "python",
   "nbconvert_exporter": "python",
   "pygments_lexer": "ipython3",
   "version": "3.7.1"
  }
 },
 "nbformat": 4,
 "nbformat_minor": 4
}
