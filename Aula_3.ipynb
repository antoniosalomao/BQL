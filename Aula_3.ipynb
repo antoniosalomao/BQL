{
 "cells": [
  {
   "cell_type": "code",
   "execution_count": 13,
   "metadata": {},
   "outputs": [],
   "source": [
    "# Parameters: Date manipulation (get ()):\n",
    "\n",
    "# (1) Period referece: e.g fa_period_reference = '2014'\n",
    "\n",
    "# (2) Period type: e.g fa_period_type = 'A' \n",
    "# Annually/Yearly (A), Monthly (M), Daily (D)\n",
    "\n",
    "# (3) Period offset: e.g fa_period_offset = bq.func.range[-1, 2] \n",
    "# offsetting chosen window by -1 periods and + 2 periods\n",
    "\n",
    "# (4) Upper limit on revsion date: e.g as_of_date = 2020_02_24"
   ]
  },
  {
   "cell_type": "code",
   "execution_count": 14,
   "metadata": {},
   "outputs": [
    {
     "name": "stdout",
     "output_type": "stream",
     "text": [
      "<bql.request.response.Response object at 0x000001E680EEAAC8>\n"
     ]
    }
   ],
   "source": [
    "# BQL Object Model:\n",
    "\n",
    "import bql\n",
    "bq = bql.Service()\n",
    "\n",
    "bql_item = bq.data.sales_growth(fa_period_type='A', fa_period_reference='2015-01-01', fa_period_offset=bq.func.range(-5, 0))\n",
    "\n",
    "bql_universe = 'IBM US Equity'\n",
    "\n",
    "bql_request = bql.Request(bql_universe, bql_item)\n",
    "bql_response = bq.execute(bql_request)\n",
    "print(bql_response)"
   ]
  },
  {
   "cell_type": "code",
   "execution_count": 15,
   "metadata": {},
   "outputs": [
    {
     "name": "stdout",
     "output_type": "stream",
     "text": [
      "<class 'pandas.core.frame.DataFrame'>\n",
      "Index: 6 entries, IBM US Equity to IBM US Equity\n",
      "Data columns (total 4 columns):\n",
      "REVISION_DATE                                                                                                  6 non-null datetime64[ns]\n",
      "PERIOD_END_DATE                                                                                                6 non-null datetime64[ns]\n",
      "AS_OF_DATE                                                                                                     6 non-null datetime64[ns]\n",
      "SALES_GROWTH(fa_period_type=FA_PERIOD_TYPE.A,fa_period_offset=RANGE(-5,0),fa_period_reference='2015-01-01')    6 non-null float64\n",
      "dtypes: datetime64[ns](3), float64(1)\n",
      "memory usage: 240.0+ bytes\n"
     ]
    },
    {
     "data": {
      "text/html": [
       "<div>\n",
       "<style scoped>\n",
       "    .dataframe tbody tr th:only-of-type {\n",
       "        vertical-align: middle;\n",
       "    }\n",
       "\n",
       "    .dataframe tbody tr th {\n",
       "        vertical-align: top;\n",
       "    }\n",
       "\n",
       "    .dataframe thead th {\n",
       "        text-align: right;\n",
       "    }\n",
       "</style>\n",
       "<table border=\"1\" class=\"dataframe\">\n",
       "  <thead>\n",
       "    <tr style=\"text-align: right;\">\n",
       "      <th></th>\n",
       "      <th>REVISION_DATE</th>\n",
       "      <th>PERIOD_END_DATE</th>\n",
       "      <th>AS_OF_DATE</th>\n",
       "      <th>SALES_GROWTH(fa_period_type=FA_PERIOD_TYPE.A,fa_period_offset=RANGE(-5,0),fa_period_reference='2015-01-01')</th>\n",
       "    </tr>\n",
       "    <tr>\n",
       "      <th>ID</th>\n",
       "      <th></th>\n",
       "      <th></th>\n",
       "      <th></th>\n",
       "      <th></th>\n",
       "    </tr>\n",
       "  </thead>\n",
       "  <tbody>\n",
       "    <tr>\n",
       "      <th>IBM US Equity</th>\n",
       "      <td>2012-02-28</td>\n",
       "      <td>2009-12-31</td>\n",
       "      <td>2020-08-05</td>\n",
       "      <td>-7.596256</td>\n",
       "    </tr>\n",
       "    <tr>\n",
       "      <th>IBM US Equity</th>\n",
       "      <td>2013-02-26</td>\n",
       "      <td>2010-12-31</td>\n",
       "      <td>2020-08-05</td>\n",
       "      <td>4.294158</td>\n",
       "    </tr>\n",
       "    <tr>\n",
       "      <th>IBM US Equity</th>\n",
       "      <td>2014-02-25</td>\n",
       "      <td>2011-12-31</td>\n",
       "      <td>2020-08-05</td>\n",
       "      <td>7.055172</td>\n",
       "    </tr>\n",
       "    <tr>\n",
       "      <th>IBM US Equity</th>\n",
       "      <td>2015-02-24</td>\n",
       "      <td>2012-12-31</td>\n",
       "      <td>2020-08-05</td>\n",
       "      <td>-3.780538</td>\n",
       "    </tr>\n",
       "    <tr>\n",
       "      <th>IBM US Equity</th>\n",
       "      <td>2015-02-24</td>\n",
       "      <td>2013-12-31</td>\n",
       "      <td>2020-08-05</td>\n",
       "      <td>-4.381088</td>\n",
       "    </tr>\n",
       "  </tbody>\n",
       "</table>\n",
       "</div>"
      ],
      "text/plain": [
       "              REVISION_DATE PERIOD_END_DATE AS_OF_DATE  \\\n",
       "ID                                                       \n",
       "IBM US Equity    2012-02-28      2009-12-31 2020-08-05   \n",
       "IBM US Equity    2013-02-26      2010-12-31 2020-08-05   \n",
       "IBM US Equity    2014-02-25      2011-12-31 2020-08-05   \n",
       "IBM US Equity    2015-02-24      2012-12-31 2020-08-05   \n",
       "IBM US Equity    2015-02-24      2013-12-31 2020-08-05   \n",
       "\n",
       "               SALES_GROWTH(fa_period_type=FA_PERIOD_TYPE.A,fa_period_offset=RANGE(-5,0),fa_period_reference='2015-01-01')  \n",
       "ID                                                                                                                          \n",
       "IBM US Equity                                          -7.596256                                                            \n",
       "IBM US Equity                                           4.294158                                                            \n",
       "IBM US Equity                                           7.055172                                                            \n",
       "IBM US Equity                                          -3.780538                                                            \n",
       "IBM US Equity                                          -4.381088                                                            "
      ]
     },
     "execution_count": 15,
     "metadata": {},
     "output_type": "execute_result"
    }
   ],
   "source": [
    "# Building DataFrame from Response Object:\n",
    "\n",
    "import pandas as pd \n",
    "\n",
    "df_main = bql_response[0].df()\n",
    "df_main.info()\n",
    "df_main.head()"
   ]
  },
  {
   "cell_type": "code",
   "execution_count": 16,
   "metadata": {},
   "outputs": [
    {
     "data": {
      "text/html": [
       "<div>\n",
       "<style scoped>\n",
       "    .dataframe tbody tr th:only-of-type {\n",
       "        vertical-align: middle;\n",
       "    }\n",
       "\n",
       "    .dataframe tbody tr th {\n",
       "        vertical-align: top;\n",
       "    }\n",
       "\n",
       "    .dataframe thead th {\n",
       "        text-align: right;\n",
       "    }\n",
       "</style>\n",
       "<table border=\"1\" class=\"dataframe\">\n",
       "  <thead>\n",
       "    <tr style=\"text-align: right;\">\n",
       "      <th></th>\n",
       "      <th>ID</th>\n",
       "      <th>Revision_Date</th>\n",
       "      <th>Period_End_Date</th>\n",
       "      <th>As_of_Date</th>\n",
       "      <th>Sales_Growth</th>\n",
       "    </tr>\n",
       "  </thead>\n",
       "  <tbody>\n",
       "    <tr>\n",
       "      <th>0</th>\n",
       "      <td>IBM US Equity</td>\n",
       "      <td>2012-02-28</td>\n",
       "      <td>2009-12-31</td>\n",
       "      <td>2020-08-05</td>\n",
       "      <td>-7.596256</td>\n",
       "    </tr>\n",
       "    <tr>\n",
       "      <th>1</th>\n",
       "      <td>IBM US Equity</td>\n",
       "      <td>2013-02-26</td>\n",
       "      <td>2010-12-31</td>\n",
       "      <td>2020-08-05</td>\n",
       "      <td>4.294158</td>\n",
       "    </tr>\n",
       "    <tr>\n",
       "      <th>2</th>\n",
       "      <td>IBM US Equity</td>\n",
       "      <td>2014-02-25</td>\n",
       "      <td>2011-12-31</td>\n",
       "      <td>2020-08-05</td>\n",
       "      <td>7.055172</td>\n",
       "    </tr>\n",
       "    <tr>\n",
       "      <th>3</th>\n",
       "      <td>IBM US Equity</td>\n",
       "      <td>2015-02-24</td>\n",
       "      <td>2012-12-31</td>\n",
       "      <td>2020-08-05</td>\n",
       "      <td>-3.780538</td>\n",
       "    </tr>\n",
       "    <tr>\n",
       "      <th>4</th>\n",
       "      <td>IBM US Equity</td>\n",
       "      <td>2015-02-24</td>\n",
       "      <td>2013-12-31</td>\n",
       "      <td>2020-08-05</td>\n",
       "      <td>-4.381088</td>\n",
       "    </tr>\n",
       "  </tbody>\n",
       "</table>\n",
       "</div>"
      ],
      "text/plain": [
       "              ID Revision_Date Period_End_Date As_of_Date  Sales_Growth\n",
       "0  IBM US Equity    2012-02-28      2009-12-31 2020-08-05     -7.596256\n",
       "1  IBM US Equity    2013-02-26      2010-12-31 2020-08-05      4.294158\n",
       "2  IBM US Equity    2014-02-25      2011-12-31 2020-08-05      7.055172\n",
       "3  IBM US Equity    2015-02-24      2012-12-31 2020-08-05     -3.780538\n",
       "4  IBM US Equity    2015-02-24      2013-12-31 2020-08-05     -4.381088"
      ]
     },
     "execution_count": 16,
     "metadata": {},
     "output_type": "execute_result"
    }
   ],
   "source": [
    "# Building final DataFrame:\n",
    "\n",
    "df_main.reset_index(inplace=True)\n",
    "df_main.columns = ['ID', 'Revision_Date','Period_End_Date','As_of_Date', 'Sales_Growth']\n",
    "df_main.head()"
   ]
  }
 ],
 "metadata": {
  "kernelspec": {
   "display_name": "Python 3 (sandboxed)",
   "language": "python",
   "name": "python3"
  },
  "language_info": {
   "codemirror_mode": {
    "name": "ipython",
    "version": 3
   },
   "file_extension": ".py",
   "mimetype": "text/x-python",
   "name": "python",
   "nbconvert_exporter": "python",
   "pygments_lexer": "ipython3",
   "version": "3.7.1"
  }
 },
 "nbformat": 4,
 "nbformat_minor": 4
}
